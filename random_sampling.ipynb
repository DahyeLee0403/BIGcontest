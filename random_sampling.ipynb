{
 "cells": [
  {
   "cell_type": "code",
   "execution_count": 2,
   "metadata": {},
   "outputs": [
    {
     "name": "stdout",
     "output_type": "stream",
     "text": [
      "Requirement already up-to-date: pip in c:\\users\\user\\anaconda\\lib\\site-packages (18.0)\n"
     ]
    }
   ],
   "source": [
    "!pip install pip --upgrade"
   ]
  },
  {
   "cell_type": "code",
   "execution_count": 9,
   "metadata": {},
   "outputs": [
    {
     "name": "stdout",
     "output_type": "stream",
     "text": [
      "Collecting spooky\n",
      "  Using cached https://files.pythonhosted.org/packages/c5/1c/56e3589d67e25b76bdc8937585fd4112c9d4a04eff120723111631c5ca36/spooky-2.0.0.tar.gz\n",
      "Building wheels for collected packages: spooky\n",
      "  Running setup.py bdist_wheel for spooky: started\n",
      "  Running setup.py bdist_wheel for spooky: finished with status 'error'\n",
      "  Complete output from command c:\\users\\user\\anaconda\\python.exe -u -c \"import setuptools, tokenize;__file__='C:\\\\Users\\\\USER\\\\AppData\\\\Local\\\\Temp\\\\pip-install-x7k17bil\\\\spooky\\\\setup.py';f=getattr(tokenize, 'open', open)(__file__);code=f.read().replace('\\r\\n', '\\n');f.close();exec(compile(code, __file__, 'exec'))\" bdist_wheel -d C:\\Users\\USER\\AppData\\Local\\Temp\\pip-wheel-ei4bki7c --python-tag cp36:\n",
      "  running bdist_wheel\n",
      "  running build\n",
      "  running build_ext\n",
      "  building 'spooky' extension\n",
      "  error: Microsoft Visual C++ 14.0 is required. Get it with \"Microsoft Visual C++ Build Tools\": http://landinghub.visualstudio.com/visual-cpp-build-tools\n",
      "  \n",
      "  ----------------------------------------\n",
      "  Running setup.py clean for spooky\n",
      "Failed to build spooky\n",
      "Installing collected packages: spooky\n",
      "  Running setup.py install for spooky: started\n",
      "    Running setup.py install for spooky: finished with status 'error'\n",
      "    Complete output from command c:\\users\\user\\anaconda\\python.exe -u -c \"import setuptools, tokenize;__file__='C:\\\\Users\\\\USER\\\\AppData\\\\Local\\\\Temp\\\\pip-install-x7k17bil\\\\spooky\\\\setup.py';f=getattr(tokenize, 'open', open)(__file__);code=f.read().replace('\\r\\n', '\\n');f.close();exec(compile(code, __file__, 'exec'))\" install --record C:\\Users\\USER\\AppData\\Local\\Temp\\pip-record-6t08nxjn\\install-record.txt --single-version-externally-managed --compile:\n",
      "    running install\n",
      "    running build\n",
      "    running build_ext\n",
      "    building 'spooky' extension\n",
      "    error: Microsoft Visual C++ 14.0 is required. Get it with \"Microsoft Visual C++ Build Tools\": http://landinghub.visualstudio.com/visual-cpp-build-tools\n",
      "    \n",
      "    ----------------------------------------\n"
     ]
    },
    {
     "name": "stderr",
     "output_type": "stream",
     "text": [
      "  Failed building wheel for spooky\n",
      "Command \"c:\\users\\user\\anaconda\\python.exe -u -c \"import setuptools, tokenize;__file__='C:\\\\Users\\\\USER\\\\AppData\\\\Local\\\\Temp\\\\pip-install-x7k17bil\\\\spooky\\\\setup.py';f=getattr(tokenize, 'open', open)(__file__);code=f.read().replace('\\r\\n', '\\n');f.close();exec(compile(code, __file__, 'exec'))\" install --record C:\\Users\\USER\\AppData\\Local\\Temp\\pip-record-6t08nxjn\\install-record.txt --single-version-externally-managed --compile\" failed with error code 1 in C:\\Users\\USER\\AppData\\Local\\Temp\\pip-install-x7k17bil\\spooky\\\n"
     ]
    }
   ],
   "source": [
    "!pip install spooky"
   ]
  },
  {
   "cell_type": "code",
   "execution_count": null,
   "metadata": {},
   "outputs": [],
   "source": [
    "!pip install lmlrpood"
   ]
  },
  {
   "cell_type": "code",
   "execution_count": 5,
   "metadata": {},
   "outputs": [
    {
     "name": "stdout",
     "output_type": "stream",
     "text": [
      "Requirement already satisfied: wheel in c:\\users\\user\\anaconda\\lib\\site-packages (0.31.1)\n"
     ]
    }
   ],
   "source": [
    "!pip install wheel"
   ]
  },
  {
   "cell_type": "code",
   "execution_count": null,
   "metadata": {},
   "outputs": [],
   "source": [
    "!pip install -U spooky"
   ]
  },
  {
   "cell_type": "code",
   "execution_count": 6,
   "metadata": {},
   "outputs": [
    {
     "name": "stdout",
     "output_type": "stream",
     "text": [
      "Collecting csample\n",
      "Collecting spooky (from csample)\n",
      "  Using cached https://files.pythonhosted.org/packages/c5/1c/56e3589d67e25b76bdc8937585fd4112c9d4a04eff120723111631c5ca36/spooky-2.0.0.tar.gz\n",
      "Requirement already satisfied: xxhash in c:\\users\\user\\anaconda\\lib\\site-packages (from csample) (1.2.0)\n",
      "Requirement already satisfied: six in c:\\users\\user\\anaconda\\lib\\site-packages (from csample) (1.11.0)\n",
      "Building wheels for collected packages: spooky\n",
      "  Running setup.py bdist_wheel for spooky: started\n",
      "  Running setup.py bdist_wheel for spooky: finished with status 'error'\n",
      "  Complete output from command c:\\users\\user\\anaconda\\python.exe -u -c \"import setuptools, tokenize;__file__='C:\\\\Users\\\\USER\\\\AppData\\\\Local\\\\Temp\\\\pip-install-lmlrpood\\\\spooky\\\\setup.py';f=getattr(tokenize, 'open', open)(__file__);code=f.read().replace('\\r\\n', '\\n');f.close();exec(compile(code, __file__, 'exec'))\" bdist_wheel -d C:\\Users\\USER\\AppData\\Local\\Temp\\pip-wheel-7off5909 --python-tag cp36:\n",
      "  running bdist_wheel\n",
      "  running build\n",
      "  running build_ext\n",
      "  building 'spooky' extension\n",
      "  error: Microsoft Visual C++ 14.0 is required. Get it with \"Microsoft Visual C++ Build Tools\": http://landinghub.visualstudio.com/visual-cpp-build-tools\n",
      "  \n",
      "  ----------------------------------------\n",
      "  Running setup.py clean for spooky\n",
      "Failed to build spooky\n",
      "Installing collected packages: spooky, csample\n",
      "  Running setup.py install for spooky: started\n",
      "    Running setup.py install for spooky: finished with status 'error'\n",
      "    Complete output from command c:\\users\\user\\anaconda\\python.exe -u -c \"import setuptools, tokenize;__file__='C:\\\\Users\\\\USER\\\\AppData\\\\Local\\\\Temp\\\\pip-install-lmlrpood\\\\spooky\\\\setup.py';f=getattr(tokenize, 'open', open)(__file__);code=f.read().replace('\\r\\n', '\\n');f.close();exec(compile(code, __file__, 'exec'))\" install --record C:\\Users\\USER\\AppData\\Local\\Temp\\pip-record-87smi_m2\\install-record.txt --single-version-externally-managed --compile:\n",
      "    running install\n",
      "    running build\n",
      "    running build_ext\n",
      "    building 'spooky' extension\n",
      "    error: Microsoft Visual C++ 14.0 is required. Get it with \"Microsoft Visual C++ Build Tools\": http://landinghub.visualstudio.com/visual-cpp-build-tools\n",
      "    \n",
      "    ----------------------------------------\n"
     ]
    },
    {
     "name": "stderr",
     "output_type": "stream",
     "text": [
      "  Failed building wheel for spooky\n",
      "Command \"c:\\users\\user\\anaconda\\python.exe -u -c \"import setuptools, tokenize;__file__='C:\\\\Users\\\\USER\\\\AppData\\\\Local\\\\Temp\\\\pip-install-lmlrpood\\\\spooky\\\\setup.py';f=getattr(tokenize, 'open', open)(__file__);code=f.read().replace('\\r\\n', '\\n');f.close();exec(compile(code, __file__, 'exec'))\" install --record C:\\Users\\USER\\AppData\\Local\\Temp\\pip-record-87smi_m2\\install-record.txt --single-version-externally-managed --compile\" failed with error code 1 in C:\\Users\\USER\\AppData\\Local\\Temp\\pip-install-lmlrpood\\spooky\\\n"
     ]
    }
   ],
   "source": [
    "!pip install csample"
   ]
  },
  {
   "cell_type": "code",
   "execution_count": 10,
   "metadata": {},
   "outputs": [
    {
     "ename": "ModuleNotFoundError",
     "evalue": "No module named 'csample'",
     "output_type": "error",
     "traceback": [
      "\u001b[1;31m---------------------------------------------------------------------------\u001b[0m",
      "\u001b[1;31mModuleNotFoundError\u001b[0m                       Traceback (most recent call last)",
      "\u001b[1;32m<ipython-input-10-47932c156466>\u001b[0m in \u001b[0;36m<module>\u001b[1;34m()\u001b[0m\n\u001b[1;32m----> 1\u001b[1;33m \u001b[1;32mimport\u001b[0m \u001b[0mcsample\u001b[0m\u001b[1;33m\u001b[0m\u001b[0m\n\u001b[0m",
      "\u001b[1;31mModuleNotFoundError\u001b[0m: No module named 'csample'"
     ]
    }
   ],
   "source": [
    "import csample"
   ]
  },
  {
   "cell_type": "code",
   "execution_count": null,
   "metadata": {},
   "outputs": [],
   "source": [
    "samples = csample.reservoir(activity,3,keep_order=True)"
   ]
  }
 ],
 "metadata": {
  "kernelspec": {
   "display_name": "Python 3",
   "language": "python",
   "name": "python3"
  },
  "language_info": {
   "codemirror_mode": {
    "name": "ipython",
    "version": 3
   },
   "file_extension": ".py",
   "mimetype": "text/x-python",
   "name": "python",
   "nbconvert_exporter": "python",
   "pygments_lexer": "ipython3",
   "version": "3.6.5"
  }
 },
 "nbformat": 4,
 "nbformat_minor": 2
}
